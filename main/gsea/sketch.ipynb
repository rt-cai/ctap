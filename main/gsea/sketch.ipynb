{
 "cells": [
  {
   "cell_type": "code",
   "execution_count": 71,
   "metadata": {},
   "outputs": [],
   "source": [
    "from pathlib import Path\n",
    "from scipy.io import mmread\n",
    "from scipy.sparse import coo_matrix\n",
    "import pandas as pd\n",
    "import numpy as np\n",
    "import scanpy as sc\n",
    "import anndata as ad\n",
    "from tqdm import tqdm\n",
    "import warnings\n",
    "warnings.filterwarnings(\"ignore\")\n",
    "\n",
    "from goatools.obo_parser import GODag\n",
    "from goatools.anno.genetogo_reader import Gene2GoReader\n",
    "\n",
    "WORKSPACE_ROOT = Path(\"../../\").resolve()\n",
    "Path(\"./cache\").mkdir(exist_ok=True)"
   ]
  },
  {
   "cell_type": "code",
   "execution_count": 10,
   "metadata": {},
   "outputs": [
    {
     "data": {
      "text/plain": [
       "AnnData object with n_obs × n_vars = 25312 × 36601\n",
       "    obs: 'barcode', 'sample', 'n_genes_by_counts', 'log1p_n_genes_by_counts', 'total_counts', 'log1p_total_counts', 'pct_counts_in_top_50_genes', 'pct_counts_in_top_100_genes', 'pct_counts_in_top_200_genes', 'pct_counts_in_top_500_genes', 'leiden', 'cell_type', 'sample_type'\n",
       "    var: 'locus', 'n_cells_by_counts', 'mean_counts', 'log1p_mean_counts', 'pct_dropout_by_counts', 'total_counts', 'log1p_total_counts'\n",
       "    uns: 'cell_type_colors', 'dendrogram_leiden', 'leiden', 'leiden_colors', 'log1p', 'neighbors', 'pca', 'sample_colors', 'sample_type_colors', 'umap'\n",
       "    obsm: 'X_pca', 'X_umap', 'ora_estimate', 'ora_pvals'\n",
       "    varm: 'PCs'\n",
       "    layers: 'log_norm'\n",
       "    obsp: 'connectivities', 'distances'"
      ]
     },
     "execution_count": 10,
     "metadata": {},
     "output_type": "execute_result"
    }
   ],
   "source": [
    "adata = ad.read_h5ad(\"../scanpy/cache/adata.h5ad\")\n",
    "adata"
   ]
  },
  {
   "cell_type": "code",
   "execution_count": 87,
   "metadata": {},
   "outputs": [
    {
     "name": "stdout",
     "output_type": "stream",
     "text": [
      "/home/tony/workspace/rt/ctap/data/goatools/go-basic.obo: fmt(1.2) rel(2024-10-27) 44,017 Terms\n"
     ]
    }
   ],
   "source": [
    "go_dag = GODag(WORKSPACE_ROOT/\"data/goatools/go-basic.obo\")"
   ]
  },
  {
   "cell_type": "code",
   "execution_count": 97,
   "metadata": {},
   "outputs": [
    {
     "name": "stdout",
     "output_type": "stream",
     "text": [
      "(782823, 17)\n"
     ]
    },
    {
     "data": {
      "text/html": [
       "<div>\n",
       "<style scoped>\n",
       "    .dataframe tbody tr th:only-of-type {\n",
       "        vertical-align: middle;\n",
       "    }\n",
       "\n",
       "    .dataframe tbody tr th {\n",
       "        vertical-align: top;\n",
       "    }\n",
       "\n",
       "    .dataframe thead th {\n",
       "        text-align: right;\n",
       "    }\n",
       "</style>\n",
       "<table border=\"1\" class=\"dataframe\">\n",
       "  <thead>\n",
       "    <tr style=\"text-align: right;\">\n",
       "      <th></th>\n",
       "      <th>DB</th>\n",
       "      <th>DB_Object_ID</th>\n",
       "      <th>DB_Object_Symbol</th>\n",
       "      <th>Qualifier</th>\n",
       "      <th>GO_ID</th>\n",
       "      <th>DB_Reference</th>\n",
       "      <th>Evidence_Code</th>\n",
       "      <th>With_From</th>\n",
       "      <th>Aspect</th>\n",
       "      <th>DB_Object_Name</th>\n",
       "      <th>DB_Object_Synonym</th>\n",
       "      <th>DB_Object_Type</th>\n",
       "      <th>Taxon_ID</th>\n",
       "      <th>Date</th>\n",
       "      <th>Assigned_By</th>\n",
       "      <th>Annotation_Extension</th>\n",
       "      <th>Gene_Product_Form_ID</th>\n",
       "    </tr>\n",
       "  </thead>\n",
       "  <tbody>\n",
       "    <tr>\n",
       "      <th>0</th>\n",
       "      <td>UniProtKB</td>\n",
       "      <td>A0A024RBG1</td>\n",
       "      <td>NUDT4B</td>\n",
       "      <td>enables</td>\n",
       "      <td>GO:0003723</td>\n",
       "      <td>GO_REF:0000043</td>\n",
       "      <td>IEA</td>\n",
       "      <td>UniProtKB-KW:KW-0694</td>\n",
       "      <td>F</td>\n",
       "      <td>Diphosphoinositol polyphosphate phosphohydrola...</td>\n",
       "      <td>NUDT4B</td>\n",
       "      <td>protein</td>\n",
       "      <td>taxon:9606</td>\n",
       "      <td>20241014</td>\n",
       "      <td>UniProt</td>\n",
       "      <td>NaN</td>\n",
       "      <td>UniProtKB:A0A024RBG1</td>\n",
       "    </tr>\n",
       "    <tr>\n",
       "      <th>1</th>\n",
       "      <td>UniProtKB</td>\n",
       "      <td>A0A024RBG1</td>\n",
       "      <td>NUDT4B</td>\n",
       "      <td>enables</td>\n",
       "      <td>GO:0005515</td>\n",
       "      <td>PMID:33961781</td>\n",
       "      <td>IPI</td>\n",
       "      <td>UniProtKB:Q8NFP7</td>\n",
       "      <td>F</td>\n",
       "      <td>Diphosphoinositol polyphosphate phosphohydrola...</td>\n",
       "      <td>NUDT4B</td>\n",
       "      <td>protein</td>\n",
       "      <td>taxon:9606</td>\n",
       "      <td>20241012</td>\n",
       "      <td>IntAct</td>\n",
       "      <td>NaN</td>\n",
       "      <td>UniProtKB:A0A024RBG1</td>\n",
       "    </tr>\n",
       "  </tbody>\n",
       "</table>\n",
       "</div>"
      ],
      "text/plain": [
       "          DB DB_Object_ID DB_Object_Symbol Qualifier       GO_ID  \\\n",
       "0  UniProtKB   A0A024RBG1           NUDT4B   enables  GO:0003723   \n",
       "1  UniProtKB   A0A024RBG1           NUDT4B   enables  GO:0005515   \n",
       "\n",
       "     DB_Reference Evidence_Code             With_From Aspect  \\\n",
       "0  GO_REF:0000043           IEA  UniProtKB-KW:KW-0694      F   \n",
       "1   PMID:33961781           IPI      UniProtKB:Q8NFP7      F   \n",
       "\n",
       "                                      DB_Object_Name DB_Object_Synonym  \\\n",
       "0  Diphosphoinositol polyphosphate phosphohydrola...            NUDT4B   \n",
       "1  Diphosphoinositol polyphosphate phosphohydrola...            NUDT4B   \n",
       "\n",
       "  DB_Object_Type    Taxon_ID      Date Assigned_By Annotation_Extension  \\\n",
       "0        protein  taxon:9606  20241014     UniProt                  NaN   \n",
       "1        protein  taxon:9606  20241012      IntAct                  NaN   \n",
       "\n",
       "   Gene_Product_Form_ID  \n",
       "0  UniProtKB:A0A024RBG1  \n",
       "1  UniProtKB:A0A024RBG1  "
      ]
     },
     "execution_count": 97,
     "metadata": {},
     "output_type": "execute_result"
    }
   ],
   "source": [
    "columns = [\n",
    "    'DB', 'DB_Object_ID', 'DB_Object_Symbol', 'Qualifier', 'GO_ID', 'DB_Reference',\n",
    "    'Evidence_Code', 'With_From', 'Aspect', 'DB_Object_Name', 'DB_Object_Synonym',\n",
    "    'DB_Object_Type', 'Taxon_ID', 'Date', 'Assigned_By', 'Annotation_Extension', 'Gene_Product_Form_ID'\n",
    "]\n",
    "dfg2g = pd.read_csv(WORKSPACE_ROOT/\"data/goatools/goa_human.gaf\", sep=\"\\t\", comment=\"!\", header=None)\n",
    "dfg2g.columns = columns\n",
    "print(dfg2g.shape)\n",
    "dfg2g.head(2)"
   ]
  },
  {
   "cell_type": "code",
   "execution_count": 155,
   "metadata": {},
   "outputs": [
    {
     "name": "stdout",
     "output_type": "stream",
     "text": [
      "44541\n",
      "18676\n"
     ]
    }
   ],
   "source": [
    "mapped_genes = set(dfg2g.DB_Object_Symbol)\n",
    "print(len(mapped_genes))\n",
    "go_filter = np.array([v in mapped_genes for v in adata.var.index])\n",
    "print(go_filter.sum())"
   ]
  },
  {
   "cell_type": "code",
   "execution_count": 159,
   "metadata": {},
   "outputs": [
    {
     "data": {
      "text/plain": [
       "{GOTerm('GO:0048468'):\n",
       "   id:GO:0048468\n",
       "   item_id:GO:0048468\n",
       "   name:cell development\n",
       "   namespace:biological_process\n",
       "   _parents: 2 items\n",
       "     GO:0048869\n",
       "     GO:0048856\n",
       "   parents: 2 items\n",
       "     GO:0048869\tlevel-02\tdepth-02\tcellular developmental process [biological_process]\n",
       "     GO:0048856\tlevel-02\tdepth-02\tanatomical structure development [biological_process]\n",
       "   children: 42 items\n",
       "   level:3\n",
       "   depth:3\n",
       "   is_obsolete:False\n",
       "   alt_ids: 0 items}"
      ]
     },
     "execution_count": 159,
     "metadata": {},
     "output_type": "execute_result"
    }
   ],
   "source": [
    "def get_parents_at(go_id, level=3):\n",
    "    e = go_dag[go_id]\n",
    "    def _traverse(e):\n",
    "        if e.level == level:\n",
    "            return {e}\n",
    "        if e.level < level:\n",
    "            return set()\n",
    "        parents = set()\n",
    "        for p in e.parents:\n",
    "            parents |= _traverse(p)\n",
    "        return parents\n",
    "    return _traverse(e)\n",
    "\n",
    "get_parents_at(\"GO:0048666\")"
   ]
  },
  {
   "cell_type": "code",
   "execution_count": 165,
   "metadata": {},
   "outputs": [
    {
     "data": {
      "text/plain": [
       "{'G protein-coupled receptor signaling pathway',\n",
       " 'active transmembrane transporter activity',\n",
       " 'catabolic process',\n",
       " 'defense response to other organism',\n",
       " 'detection of chemical stimulus',\n",
       " 'detection of stimulus involved in sensory perception',\n",
       " 'extracellular organelle',\n",
       " 'innate immune response',\n",
       " 'inorganic ion transmembrane transport',\n",
       " 'inorganic molecular entity transmembrane transporter activity',\n",
       " 'intracellular organelle',\n",
       " 'ion binding',\n",
       " 'ketone metabolic process',\n",
       " 'macromolecule metabolic process',\n",
       " 'membrane-bounded organelle',\n",
       " 'monoatomic ion transmembrane transport',\n",
       " 'monoatomic ion transmembrane transporter activity',\n",
       " 'monooxygenase activity',\n",
       " 'negative regulation of biological process',\n",
       " 'nervous system process',\n",
       " 'olefinic compound metabolic process',\n",
       " 'organelle membrane',\n",
       " 'oxidoreductase activity, acting on paired donors, with incorporation or reduction of molecular oxygen',\n",
       " 'phosphorus metabolic process',\n",
       " 'plasma membrane',\n",
       " 'plasma membrane region',\n",
       " 'positive regulation of biological process',\n",
       " 'primary metabolic process',\n",
       " 'regulation of cellular process',\n",
       " 'regulation of hormone levels',\n",
       " 'regulation of immune system process',\n",
       " 'regulation of response to stimulus',\n",
       " 'regulation of signaling',\n",
       " 'response to virus',\n",
       " 'salt transmembrane transporter activity',\n",
       " 'small molecule metabolic process',\n",
       " 'tetrapyrrole binding',\n",
       " 'transmembrane signaling receptor activity',\n",
       " 'transport',\n",
       " 'ubiquitin-like protein transferase activity'}"
      ]
     },
     "execution_count": 165,
     "metadata": {},
     "output_type": "execute_result"
    }
   ],
   "source": [
    "k = 5\n",
    "for cell_type in adata.obs[\"cell_type\"].unique():\n",
    "    _ss = adata[adata.obs[\"cell_type\"] == cell_type]\n",
    "    _ss = _ss[:, go_filter]\n",
    "\n",
    "    # shortlist top k genes\n",
    "    inf = _ss[_ss.obs[\"sample_type\"] == \"Infected\"]\n",
    "    ctl = _ss[_ss.obs[\"sample_type\"] == \"Control\"]\n",
    "    fc = np.array(inf.X.tocsc().sum(axis=0))[0] / np.array(ctl.X.tocsc().sum(axis=0))[0]\n",
    "    topKi = np.argpartition(fc, -k)[-k:]\n",
    "    topK = _ss.var.iloc[topKi].index.tolist()\n",
    "\n",
    "    # get go terms for top k genes and aggregate at level 3\n",
    "    gos = dfg2g[dfg2g[\"DB_Object_Symbol\"].isin(topK)][\"GO_ID\"].unique()\n",
    "    gos = {x.name for g in gos for x in get_parents_at(g, 3)}\n",
    "    break\n",
    "gos"
   ]
  },
  {
   "cell_type": "code",
   "execution_count": 127,
   "metadata": {},
   "outputs": [
    {
     "data": {
      "text/plain": [
       "['AF212831.1',\n",
       " 'LINC01737',\n",
       " 'AL121999.1',\n",
       " 'LINC01166',\n",
       " 'AL050403.1',\n",
       " 'LINC00374',\n",
       " 'GPC5-AS2',\n",
       " 'LINC01677',\n",
       " 'AP001062.2',\n",
       " 'AL591719.2',\n",
       " 'CYP1B1-AS1',\n",
       " 'AL355537.1',\n",
       " 'AL139081.1',\n",
       " 'GACAT1',\n",
       " 'AL445183.1',\n",
       " 'AC005324.1',\n",
       " 'AC018742.1',\n",
       " 'NALCN-AS1',\n",
       " 'AL121832.1',\n",
       " 'AL669841.1',\n",
       " 'AC244453.2',\n",
       " 'AC011899.2',\n",
       " 'PHGR1',\n",
       " 'AL049820.1',\n",
       " 'AL138899.3']"
      ]
     },
     "execution_count": 127,
     "metadata": {},
     "output_type": "execute_result"
    }
   ],
   "source": [
    "# https://nbisweden.github.io/workshop-scRNAseq/labs/scanpy/scanpy_05_dge.html\n",
    "# gsea!"
   ]
  },
  {
   "cell_type": "code",
   "execution_count": 55,
   "metadata": {},
   "outputs": [
    {
     "data": {
      "text/plain": [
       "['RPS12',\n",
       " 'EEF1A1',\n",
       " 'RPL10',\n",
       " 'PTMA',\n",
       " 'MALAT1',\n",
       " 'MT-ATP6',\n",
       " 'B2M',\n",
       " 'MT-CO2',\n",
       " 'TMSB10',\n",
       " 'RPS27']"
      ]
     },
     "execution_count": 55,
     "metadata": {},
     "output_type": "execute_result"
    }
   ],
   "source": [
    "topK"
   ]
  },
  {
   "cell_type": "code",
   "execution_count": 46,
   "metadata": {},
   "outputs": [
    {
     "data": {
      "text/plain": [
       "matrix([[0.       , 0.       , 1.2376149, ..., 0.       , 0.       ,\n",
       "         0.       ]])"
      ]
     },
     "execution_count": 46,
     "metadata": {},
     "output_type": "execute_result"
    }
   ],
   "source": [
    "_ss.X.tocsc().sum(axis=0)"
   ]
  },
  {
   "cell_type": "code",
   "execution_count": 6,
   "metadata": {},
   "outputs": [
    {
     "data": {
      "text/html": [
       "<div>\n",
       "<style scoped>\n",
       "    .dataframe tbody tr th:only-of-type {\n",
       "        vertical-align: middle;\n",
       "    }\n",
       "\n",
       "    .dataframe tbody tr th {\n",
       "        vertical-align: top;\n",
       "    }\n",
       "\n",
       "    .dataframe thead th {\n",
       "        text-align: right;\n",
       "    }\n",
       "</style>\n",
       "<table border=\"1\" class=\"dataframe\">\n",
       "  <thead>\n",
       "    <tr style=\"text-align: right;\">\n",
       "      <th></th>\n",
       "      <th>source</th>\n",
       "      <th>native</th>\n",
       "      <th>name</th>\n",
       "      <th>p_value</th>\n",
       "      <th>significant</th>\n",
       "      <th>description</th>\n",
       "      <th>term_size</th>\n",
       "      <th>query_size</th>\n",
       "      <th>intersection_size</th>\n",
       "      <th>effective_domain_size</th>\n",
       "      <th>precision</th>\n",
       "      <th>recall</th>\n",
       "      <th>query</th>\n",
       "      <th>parents</th>\n",
       "    </tr>\n",
       "  </thead>\n",
       "  <tbody>\n",
       "    <tr>\n",
       "      <th>0</th>\n",
       "      <td>GO:BP</td>\n",
       "      <td>GO:0034162</td>\n",
       "      <td>toll-like receptor 9 signaling pathway</td>\n",
       "      <td>0.016195</td>\n",
       "      <td>True</td>\n",
       "      <td>\"The series of molecular signals initiated by ...</td>\n",
       "      <td>19</td>\n",
       "      <td>7</td>\n",
       "      <td>2</td>\n",
       "      <td>21031</td>\n",
       "      <td>0.285714</td>\n",
       "      <td>0.105263</td>\n",
       "      <td>query_1</td>\n",
       "      <td>[GO:0140894]</td>\n",
       "    </tr>\n",
       "    <tr>\n",
       "      <th>1</th>\n",
       "      <td>GO:BP</td>\n",
       "      <td>GO:0048486</td>\n",
       "      <td>parasympathetic nervous system development</td>\n",
       "      <td>0.016195</td>\n",
       "      <td>True</td>\n",
       "      <td>\"The process whose specific outcome is the pro...</td>\n",
       "      <td>19</td>\n",
       "      <td>7</td>\n",
       "      <td>2</td>\n",
       "      <td>21031</td>\n",
       "      <td>0.285714</td>\n",
       "      <td>0.105263</td>\n",
       "      <td>query_1</td>\n",
       "      <td>[GO:0048483, GO:0048731]</td>\n",
       "    </tr>\n",
       "    <tr>\n",
       "      <th>2</th>\n",
       "      <td>GO:MF</td>\n",
       "      <td>GO:1902122</td>\n",
       "      <td>chenodeoxycholic acid binding</td>\n",
       "      <td>0.049903</td>\n",
       "      <td>True</td>\n",
       "      <td>\"Binding to chenodeoxycholic acid.\" [GOC:bf, G...</td>\n",
       "      <td>1</td>\n",
       "      <td>7</td>\n",
       "      <td>1</td>\n",
       "      <td>20212</td>\n",
       "      <td>0.142857</td>\n",
       "      <td>1.000000</td>\n",
       "      <td>query_1</td>\n",
       "      <td>[GO:0005496, GO:0032052]</td>\n",
       "    </tr>\n",
       "    <tr>\n",
       "      <th>3</th>\n",
       "      <td>CORUM</td>\n",
       "      <td>CORUM:5669</td>\n",
       "      <td>PlexinA3-Nrp1 complex</td>\n",
       "      <td>0.049932</td>\n",
       "      <td>True</td>\n",
       "      <td>PlexinA3-Nrp1 complex</td>\n",
       "      <td>2</td>\n",
       "      <td>1</td>\n",
       "      <td>1</td>\n",
       "      <td>3383</td>\n",
       "      <td>1.000000</td>\n",
       "      <td>0.500000</td>\n",
       "      <td>query_1</td>\n",
       "      <td>[CORUM:0000000]</td>\n",
       "    </tr>\n",
       "    <tr>\n",
       "      <th>4</th>\n",
       "      <td>CORUM</td>\n",
       "      <td>CORUM:5759</td>\n",
       "      <td>PLXNA3-RANBPM complex</td>\n",
       "      <td>0.049932</td>\n",
       "      <td>True</td>\n",
       "      <td>PLXNA3-RANBPM complex</td>\n",
       "      <td>2</td>\n",
       "      <td>1</td>\n",
       "      <td>1</td>\n",
       "      <td>3383</td>\n",
       "      <td>1.000000</td>\n",
       "      <td>0.500000</td>\n",
       "      <td>query_1</td>\n",
       "      <td>[CORUM:0000000]</td>\n",
       "    </tr>\n",
       "  </tbody>\n",
       "</table>\n",
       "</div>"
      ],
      "text/plain": [
       "  source      native                                        name   p_value  \\\n",
       "0  GO:BP  GO:0034162      toll-like receptor 9 signaling pathway  0.016195   \n",
       "1  GO:BP  GO:0048486  parasympathetic nervous system development  0.016195   \n",
       "2  GO:MF  GO:1902122               chenodeoxycholic acid binding  0.049903   \n",
       "3  CORUM  CORUM:5669                       PlexinA3-Nrp1 complex  0.049932   \n",
       "4  CORUM  CORUM:5759                       PLXNA3-RANBPM complex  0.049932   \n",
       "\n",
       "   significant                                        description  term_size  \\\n",
       "0         True  \"The series of molecular signals initiated by ...         19   \n",
       "1         True  \"The process whose specific outcome is the pro...         19   \n",
       "2         True  \"Binding to chenodeoxycholic acid.\" [GOC:bf, G...          1   \n",
       "3         True                              PlexinA3-Nrp1 complex          2   \n",
       "4         True                              PLXNA3-RANBPM complex          2   \n",
       "\n",
       "   query_size  intersection_size  effective_domain_size  precision    recall  \\\n",
       "0           7                  2                  21031   0.285714  0.105263   \n",
       "1           7                  2                  21031   0.285714  0.105263   \n",
       "2           7                  1                  20212   0.142857  1.000000   \n",
       "3           1                  1                   3383   1.000000  0.500000   \n",
       "4           1                  1                   3383   1.000000  0.500000   \n",
       "\n",
       "     query                   parents  \n",
       "0  query_1              [GO:0140894]  \n",
       "1  query_1  [GO:0048483, GO:0048731]  \n",
       "2  query_1  [GO:0005496, GO:0032052]  \n",
       "3  query_1           [CORUM:0000000]  \n",
       "4  query_1           [CORUM:0000000]  "
      ]
     },
     "execution_count": 6,
     "metadata": {},
     "output_type": "execute_result"
    }
   ],
   "source": [
    "gp.profile(organism='hsapiens',\n",
    "    query=['NR1H4','TRIP12','UBC','FCRL3','PLXNA3','GDNF','VPS11'])"
   ]
  },
  {
   "cell_type": "code",
   "execution_count": null,
   "metadata": {},
   "outputs": [],
   "source": [
    "# https://www.nextflow.io/docs/latest/your-first-script.html"
   ]
  }
 ],
 "metadata": {
  "kernelspec": {
   "display_name": "ctap",
   "language": "python",
   "name": "python3"
  },
  "language_info": {
   "codemirror_mode": {
    "name": "ipython",
    "version": 3
   },
   "file_extension": ".py",
   "mimetype": "text/x-python",
   "name": "python",
   "nbconvert_exporter": "python",
   "pygments_lexer": "ipython3",
   "version": "3.12.7"
  }
 },
 "nbformat": 4,
 "nbformat_minor": 2
}
