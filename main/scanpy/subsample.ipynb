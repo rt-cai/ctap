{
 "cells": [
  {
   "cell_type": "code",
   "execution_count": 1,
   "metadata": {},
   "outputs": [],
   "source": [
    "from pathlib import Path\n",
    "import scanpy as sc\n",
    "import anndata as ad\n",
    "import warnings\n",
    "warnings.filterwarnings(\"ignore\")\n",
    "\n",
    "WORKSPACE_ROOT = Path(\"../../\").resolve()\n",
    "Path(\"./cache\").mkdir(exist_ok=True)"
   ]
  },
  {
   "cell_type": "code",
   "execution_count": 6,
   "metadata": {},
   "outputs": [],
   "source": [
    "adata = ad.read_h5ad(WORKSPACE_ROOT/\"scratch/results/adata.final.h5ad\")"
   ]
  },
  {
   "cell_type": "code",
   "execution_count": 7,
   "metadata": {},
   "outputs": [
    {
     "data": {
      "text/plain": [
       "AnnData object with n_obs × n_vars = 253 × 36601\n",
       "    obs: 'barcode', 'sample', 'sample_type', 'leiden', 'cell_type'\n",
       "    var: 'locus'\n",
       "    uns: 'cell_type_colors', 'leiden', 'log1p', 'neighbors', 'pca', 'sample_type_colors', 'umap'\n",
       "    obsm: 'X_pca', 'X_umap', 'ora_estimate', 'ora_pvals'\n",
       "    varm: 'PCs'\n",
       "    layers: 'log_norm', 'raw_counts'\n",
       "    obsp: 'connectivities', 'distances'"
      ]
     },
     "execution_count": 7,
     "metadata": {},
     "output_type": "execute_result"
    }
   ],
   "source": [
    "sc.pp.subsample(adata, n_obs=int(adata.shape[0]*0.01), copy=False)\n",
    "adata.write(\"cache/adata.final.h5ad\")\n",
    "adata"
   ]
  },
  {
   "cell_type": "code",
   "execution_count": null,
   "metadata": {},
   "outputs": [],
   "source": []
  }
 ],
 "metadata": {
  "kernelspec": {
   "display_name": "ctap",
   "language": "python",
   "name": "python3"
  },
  "language_info": {
   "codemirror_mode": {
    "name": "ipython",
    "version": 3
   },
   "file_extension": ".py",
   "mimetype": "text/x-python",
   "name": "python",
   "nbconvert_exporter": "python",
   "pygments_lexer": "ipython3",
   "version": "3.12.7"
  }
 },
 "nbformat": 4,
 "nbformat_minor": 2
}
