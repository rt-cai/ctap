{
  "cells": [
    {
      "cell_type": "code",
      "execution_count": null,
      "metadata": {
        "collapsed": false
      },
      "outputs": [],
      "source": [
        "%matplotlib inline"
      ]
    },
    {
      "cell_type": "markdown",
      "metadata": {},
      "source": [
        "\n# Loading data and saving results with pandas and pickle\n\nIn this example, we show how load data in order to perform a DEA analysis with PyDESeq2,\nand how to save its results, using [pandas](https://pandas.pydata.org/) and\n[pickle](https://docs.python.org/3/library/pickle.html).\n\nWe refer to the :doc:`getting started example <plot_minimal_pydeseq2_pipeline>` for more\ndetails on the analysis itself.\n    :depth: 3\n\nWe start by importing required packages and setting up a path to save results.\n"
      ]
    },
    {
      "cell_type": "code",
      "execution_count": null,
      "metadata": {
        "collapsed": false
      },
      "outputs": [],
      "source": [
        "import os\nimport pickle as pkl\n\nimport pandas as pd\n\nfrom pydeseq2.dds import DeseqDataSet\nfrom pydeseq2.default_inference import DefaultInference\nfrom pydeseq2.ds import DeseqStats\n\n# Replace this with the path to directory where you would like results to be saved\nOUTPUT_PATH = \"../output_files/synthetic_example/\"\nos.makedirs(OUTPUT_PATH, exist_ok=True)  # Create path if it doesn't exist"
      ]
    },
    {
      "cell_type": "markdown",
      "metadata": {},
      "source": [
        "## Data loading with pandas\n\nTo perform differential expression analysis (DEA), PyDESeq2 requires two types of\ninputs:\n\n  * A count matrix of shape 'number of samples' x 'number of genes', containing\n    read counts (non-negative integers),\n  * Metadata (or annotations, or \"column\" data) of shape 'number of samples' x\n    'number of variables', containing sample annotations that will be used\n    to split the data in cohorts.\n\nBoth should be provided as [pandas dataframes](https://pandas.pydata.org/docs/reference/api/pandas.DataFrame.html).\n\n.. currentmodule:: pydeseq2\n\nHere, we show how to load CSV corresponding to counts and annotations as pandas\ndataframes, using [pandas.read_csv()](https://pandas.pydata.org/docs/reference/api/pandas.read_csv.html#pandas.read_csv).\n\nWe assume that ``DATA_PATH`` is a directory containing a ``test_counts.csv`` and a\n``test_metadata.csv`` file.\n\n"
      ]
    },
    {
      "cell_type": "code",
      "execution_count": null,
      "metadata": {
        "collapsed": false
      },
      "outputs": [],
      "source": [
        "# Replace this with the path to your dataset\nDATA_PATH = \"https://raw.githubusercontent.com/owkin/PyDESeq2/main/datasets/synthetic/\""
      ]
    },
    {
      "cell_type": "code",
      "execution_count": null,
      "metadata": {
        "collapsed": false
      },
      "outputs": [],
      "source": [
        "counts_df = pd.read_csv(os.path.join(DATA_PATH, \"test_counts.csv\"), index_col=0)\nprint(counts_df)"
      ]
    },
    {
      "cell_type": "markdown",
      "metadata": {},
      "source": [
        "Note that the counts data is in a 'number of genes' x 'number of samples' format,\nwhereas 'number of samples' x 'number of genes' is required. To fix this issue, we\ntranspose the counts dataframe.\n\n"
      ]
    },
    {
      "cell_type": "code",
      "execution_count": null,
      "metadata": {
        "collapsed": false
      },
      "outputs": [],
      "source": [
        "counts_df = counts_df.T\nprint(counts_df)"
      ]
    },
    {
      "cell_type": "code",
      "execution_count": null,
      "metadata": {
        "collapsed": false
      },
      "outputs": [],
      "source": [
        "metadata = pd.read_csv(os.path.join(DATA_PATH, \"test_metadata.csv\"), index_col=0)\nprint(metadata)"
      ]
    },
    {
      "cell_type": "markdown",
      "metadata": {},
      "source": [
        "In this example, the metadata data contains two columns, ``condition`` and ``group``,\nrepresenting two types of bi-level annotations. Here, we will only use the\n``condition`` factor.\n\n"
      ]
    },
    {
      "cell_type": "markdown",
      "metadata": {},
      "source": [
        "### Data filtering\n\nBefore proceeding with DEA, we start by preprocessing the data, as in the\n:doc:`getting started example <plot_minimal_pydeseq2_pipeline>`.\n\n"
      ]
    },
    {
      "cell_type": "code",
      "execution_count": null,
      "metadata": {
        "collapsed": false
      },
      "outputs": [],
      "source": [
        "samples_to_keep = ~metadata.condition.isna()\ncounts_df = counts_df.loc[samples_to_keep]\nmetadata = metadata.loc[samples_to_keep]"
      ]
    },
    {
      "cell_type": "markdown",
      "metadata": {},
      "source": [
        "Next, we filter out genes that have less than 10 read counts in total. Note again that\nthere are no such genes in this synthetic dataset.\n\n"
      ]
    },
    {
      "cell_type": "code",
      "execution_count": null,
      "metadata": {
        "collapsed": false
      },
      "outputs": [],
      "source": [
        "genes_to_keep = counts_df.columns[counts_df.sum(axis=0) >= 10]\ncounts_df = counts_df[genes_to_keep]"
      ]
    },
    {
      "cell_type": "markdown",
      "metadata": {},
      "source": [
        "Now that we have loaded and filtered our data, we may proceed with the differential\nanalysis.\n\n"
      ]
    },
    {
      "cell_type": "markdown",
      "metadata": {},
      "source": [
        "## Single factor analysis\n\nAs in the :doc:`getting started example <plot_minimal_pydeseq2_pipeline>`, we ignore\nthe ``group`` variable and use the ``condition`` column as our design factor.\n\n\n"
      ]
    },
    {
      "cell_type": "markdown",
      "metadata": {},
      "source": [
        ".. currentmodule:: pydeseq2.dds\n\n### Read counts modeling with the :class:`DeseqDataSet` class\n\nWe start by creating a :class:`DeseqDataSet`\nobject from the count and metadata data that were just loaded.\n\n\n"
      ]
    },
    {
      "cell_type": "code",
      "execution_count": null,
      "metadata": {
        "collapsed": false
      },
      "outputs": [],
      "source": [
        "inference = DefaultInference(n_cpus=8)\ndds = DeseqDataSet(\n    counts=counts_df,\n    metadata=metadata,\n    design=\"~condition\",\n    refit_cooks=True,\n    inference=inference,\n)"
      ]
    },
    {
      "cell_type": "markdown",
      "metadata": {},
      "source": [
        "Once a :class:`DeseqDataSet` was initialized,\nwe may run the :meth:`deseq2() <DeseqDataSet.deseq2>` method\nto fit dispersions and LFCs.\n\n"
      ]
    },
    {
      "cell_type": "code",
      "execution_count": null,
      "metadata": {
        "collapsed": false
      },
      "outputs": [],
      "source": [
        "dds.deseq2()"
      ]
    },
    {
      "cell_type": "markdown",
      "metadata": {},
      "source": [
        "The :class:`DeseqDataSet` class extends the\n:class:`AnnData <anndata.AnnData>`\nclass.\n\n"
      ]
    },
    {
      "cell_type": "code",
      "execution_count": null,
      "metadata": {
        "collapsed": false
      },
      "outputs": [],
      "source": [
        "print(dds)"
      ]
    },
    {
      "cell_type": "markdown",
      "metadata": {},
      "source": [
        "After removing unpicklable DeseqDataSet attributes, we can save the corresponding\nAnnData object. This can be done using the\n:meth:`to_picklable_anndata() <DeseqDataSet.to_picklable_anndata>` method.\n\n"
      ]
    },
    {
      "cell_type": "code",
      "execution_count": null,
      "metadata": {
        "collapsed": false
      },
      "outputs": [],
      "source": [
        "with open(os.path.join(OUTPUT_PATH, \"result_adata.pkl\"), \"wb\") as f:\n    pkl.dump(dds.to_picklable_anndata(), f)"
      ]
    },
    {
      "cell_type": "markdown",
      "metadata": {},
      "source": [
        "Parameters are stored according to the :class:`AnnData <anndata.AnnData>` data\nstructure, with key-based data fields. In particular,\n\n- ``X`` stores the count data,\n- ``obs`` stores design factors,\n- ``obsm`` stores sample-level data, such as ``\"design_matrix\"`` and\n  ``\"size_factors\"``,\n- ``varm`` stores gene-level data, such as ``\"dispersions\"`` and ``\"LFC\"``.\n\n\nAs an example, here is how we would access dispersions and LFCs\n(in natural log scale):\n\n"
      ]
    },
    {
      "cell_type": "code",
      "execution_count": null,
      "metadata": {
        "collapsed": false
      },
      "outputs": [],
      "source": [
        "print(dds.varm[\"dispersions\"])"
      ]
    },
    {
      "cell_type": "code",
      "execution_count": null,
      "metadata": {
        "collapsed": false
      },
      "outputs": [],
      "source": [
        "print(dds.varm[\"LFC\"])"
      ]
    },
    {
      "cell_type": "markdown",
      "metadata": {},
      "source": [
        ".. currentmodule:: pydeseq2\n\n### Statistical analysis with the :class:`DeseqStats <ds.DeseqStats>` class\n\nNow that dispersions and LFCs were fitted, we may proceed with statistical tests to\ncompute p-values and adjusted p-values for differential expresion. This is the role of\nthe :class:`DeseqStats <ds.DeseqStats>` class.\n\n"
      ]
    },
    {
      "cell_type": "code",
      "execution_count": null,
      "metadata": {
        "collapsed": false
      },
      "outputs": [],
      "source": [
        "ds = DeseqStats(dds, contrast=[\"condition\", \"B\", \"A\"], inference=inference)"
      ]
    },
    {
      "cell_type": "markdown",
      "metadata": {},
      "source": [
        "PyDESeq2 computes p-values using Wald tests. This can be done using the\n:meth:`summary() <ds.DeseqStats.summary>` method, which runs the whole statistical\nanalysis, cooks filtering and multiple testing adjustement included.\n\n"
      ]
    },
    {
      "cell_type": "code",
      "execution_count": null,
      "metadata": {
        "collapsed": false
      },
      "outputs": [],
      "source": [
        "ds.summary()"
      ]
    },
    {
      "cell_type": "markdown",
      "metadata": {},
      "source": [
        "The results are then stored in the ``results_df`` attribute (``stat_res.results_df``).\nAs with as :class:`DeseqDataSet <dds.DeseqDataSet>`, the whole\n:class:`DeseqStats <ds.DeseqStats>` object may be saved using pickle.\nHowever, it is often more convenient to have the results as a CSV.\nHence, we may export ``stat_res.results_df`` as CSV, using [pandas.DataFrame.to_csv()](https://pandas.pydata.org/docs/reference/api/pandas.DataFrame.to_csv.html).\n\n"
      ]
    },
    {
      "cell_type": "code",
      "execution_count": null,
      "metadata": {
        "collapsed": false
      },
      "outputs": [],
      "source": [
        "ds.results_df.to_csv(os.path.join(OUTPUT_PATH, \"results.csv\"))"
      ]
    }
  ],
  "metadata": {
    "kernelspec": {
      "display_name": "Python 3",
      "language": "python",
      "name": "python3"
    },
    "language_info": {
      "codemirror_mode": {
        "name": "ipython",
        "version": 3
      },
      "file_extension": ".py",
      "mimetype": "text/x-python",
      "name": "python",
      "nbconvert_exporter": "python",
      "pygments_lexer": "ipython3",
      "version": "3.10.15"
    }
  },
  "nbformat": 4,
  "nbformat_minor": 0
}