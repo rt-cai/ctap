{
 "cells": [
  {
   "cell_type": "code",
   "execution_count": 1,
   "metadata": {},
   "outputs": [],
   "source": [
    "# normalize counts\n",
    "# batch effect removal?\n",
    "# cell type \n",
    "# annotate"
   ]
  },
  {
   "cell_type": "code",
   "execution_count": 4,
   "metadata": {},
   "outputs": [
    {
     "data": {
      "text/plain": [
       "65536"
      ]
     },
     "execution_count": 4,
     "metadata": {},
     "output_type": "execute_result"
    }
   ],
   "source": [
    "4**8"
   ]
  },
  {
   "cell_type": "code",
   "execution_count": 3,
   "metadata": {},
   "outputs": [
    {
     "ename": "MemoryError",
     "evalue": "Unable to allocate 30.1 GiB for an array with shape (4038712131,) and data type int64",
     "output_type": "error",
     "traceback": [
      "\u001b[0;31m---------------------------------------------------------------------------\u001b[0m",
      "\u001b[0;31mMemoryError\u001b[0m                               Traceback (most recent call last)",
      "\u001b[1;32m/home/tony/workspace/other/ctap/main/dev/sketch.ipynb Cell 2\u001b[0m line \u001b[0;36m3\n\u001b[1;32m      <a href='vscode-notebook-cell://wsl%2Bubuntu/home/tony/workspace/other/ctap/main/dev/sketch.ipynb#W1sdnNjb2RlLXJlbW90ZQ%3D%3D?line=0'>1</a>\u001b[0m \u001b[39mimport\u001b[39;00m \u001b[39mscanpy\u001b[39;00m \u001b[39mas\u001b[39;00m \u001b[39msc\u001b[39;00m\n\u001b[0;32m----> <a href='vscode-notebook-cell://wsl%2Bubuntu/home/tony/workspace/other/ctap/main/dev/sketch.ipynb#W1sdnNjb2RlLXJlbW90ZQ%3D%3D?line=2'>3</a>\u001b[0m ann \u001b[39m=\u001b[39m sc\u001b[39m.\u001b[39;49mread_h5ad(\u001b[39m\"\u001b[39;49m\u001b[39m../../data/b13072bd-9cb6-42ca-9f4f-01252baef273.h5ad\u001b[39;49m\u001b[39m\"\u001b[39;49m)\n\u001b[1;32m      <a href='vscode-notebook-cell://wsl%2Bubuntu/home/tony/workspace/other/ctap/main/dev/sketch.ipynb#W1sdnNjb2RlLXJlbW90ZQ%3D%3D?line=3'>4</a>\u001b[0m ann\u001b[39m.\u001b[39mshape\n",
      "File \u001b[0;32m~/lib/miniforge3/envs/rt/lib/python3.12/site-packages/anndata/_io/h5ad.py:258\u001b[0m, in \u001b[0;36mread_h5ad\u001b[0;34m(filename, backed, as_sparse, as_sparse_fmt, chunk_size)\u001b[0m\n\u001b[1;32m    255\u001b[0m         \u001b[39mreturn\u001b[39;00m read_dataframe(elem)\n\u001b[1;32m    256\u001b[0m     \u001b[39mreturn\u001b[39;00m func(elem)\n\u001b[0;32m--> 258\u001b[0m adata \u001b[39m=\u001b[39m read_dispatched(f, callback\u001b[39m=\u001b[39;49mcallback)\n\u001b[1;32m    260\u001b[0m \u001b[39m# Backwards compat (should figure out which version)\u001b[39;00m\n\u001b[1;32m    261\u001b[0m \u001b[39mif\u001b[39;00m \u001b[39m\"\u001b[39m\u001b[39mraw.X\u001b[39m\u001b[39m\"\u001b[39m \u001b[39min\u001b[39;00m f:\n",
      "File \u001b[0;32m~/lib/miniforge3/envs/rt/lib/python3.12/site-packages/anndata/experimental/_dispatch_io.py:42\u001b[0m, in \u001b[0;36mread_dispatched\u001b[0;34m(elem, callback)\u001b[0m\n\u001b[1;32m     38\u001b[0m \u001b[39mfrom\u001b[39;00m \u001b[39manndata\u001b[39;00m\u001b[39m.\u001b[39;00m\u001b[39m_io\u001b[39;00m\u001b[39m.\u001b[39;00m\u001b[39mspecs\u001b[39;00m \u001b[39mimport\u001b[39;00m _REGISTRY, Reader\n\u001b[1;32m     40\u001b[0m reader \u001b[39m=\u001b[39m Reader(_REGISTRY, callback\u001b[39m=\u001b[39mcallback)\n\u001b[0;32m---> 42\u001b[0m \u001b[39mreturn\u001b[39;00m reader\u001b[39m.\u001b[39;49mread_elem(elem)\n",
      "File \u001b[0;32m~/lib/miniforge3/envs/rt/lib/python3.12/site-packages/anndata/_io/utils.py:211\u001b[0m, in \u001b[0;36mreport_read_key_on_error.<locals>.func_wrapper\u001b[0;34m(*args, **kwargs)\u001b[0m\n\u001b[1;32m    209\u001b[0m     \u001b[39mraise\u001b[39;00m \u001b[39mValueError\u001b[39;00m(\u001b[39m\"\u001b[39m\u001b[39mNo element found in args.\u001b[39m\u001b[39m\"\u001b[39m)\n\u001b[1;32m    210\u001b[0m \u001b[39mtry\u001b[39;00m:\n\u001b[0;32m--> 211\u001b[0m     \u001b[39mreturn\u001b[39;00m func(\u001b[39m*\u001b[39;49margs, \u001b[39m*\u001b[39;49m\u001b[39m*\u001b[39;49mkwargs)\n\u001b[1;32m    212\u001b[0m \u001b[39mexcept\u001b[39;00m \u001b[39mException\u001b[39;00m \u001b[39mas\u001b[39;00m e:\n\u001b[1;32m    213\u001b[0m     path, key \u001b[39m=\u001b[39m _get_display_path(store)\u001b[39m.\u001b[39mrsplit(\u001b[39m\"\u001b[39m\u001b[39m/\u001b[39m\u001b[39m\"\u001b[39m, \u001b[39m1\u001b[39m)\n",
      "File \u001b[0;32m~/lib/miniforge3/envs/rt/lib/python3.12/site-packages/anndata/_io/specs/registry.py:275\u001b[0m, in \u001b[0;36mReader.read_elem\u001b[0;34m(self, elem, modifiers)\u001b[0m\n\u001b[1;32m    273\u001b[0m \u001b[39mif\u001b[39;00m \u001b[39mself\u001b[39m\u001b[39m.\u001b[39mcallback \u001b[39mis\u001b[39;00m \u001b[39mNone\u001b[39;00m:\n\u001b[1;32m    274\u001b[0m     \u001b[39mreturn\u001b[39;00m read_func(elem)\n\u001b[0;32m--> 275\u001b[0m \u001b[39mreturn\u001b[39;00m \u001b[39mself\u001b[39;49m\u001b[39m.\u001b[39;49mcallback(read_func, elem\u001b[39m.\u001b[39;49mname, elem, iospec\u001b[39m=\u001b[39;49miospec)\n",
      "File \u001b[0;32m~/lib/miniforge3/envs/rt/lib/python3.12/site-packages/anndata/_io/h5ad.py:242\u001b[0m, in \u001b[0;36mread_h5ad.<locals>.callback\u001b[0;34m(func, elem_name, elem, iospec)\u001b[0m\n\u001b[1;32m    236\u001b[0m \u001b[39mdef\u001b[39;00m \u001b[39mcallback\u001b[39m(func, elem_name: \u001b[39mstr\u001b[39m, elem, iospec):\n\u001b[1;32m    237\u001b[0m     \u001b[39mif\u001b[39;00m iospec\u001b[39m.\u001b[39mencoding_type \u001b[39m==\u001b[39m \u001b[39m\"\u001b[39m\u001b[39manndata\u001b[39m\u001b[39m\"\u001b[39m \u001b[39mor\u001b[39;00m elem_name\u001b[39m.\u001b[39mendswith(\u001b[39m\"\u001b[39m\u001b[39m/\u001b[39m\u001b[39m\"\u001b[39m):\n\u001b[1;32m    238\u001b[0m         \u001b[39mreturn\u001b[39;00m AnnData(\n\u001b[1;32m    239\u001b[0m             \u001b[39m*\u001b[39m\u001b[39m*\u001b[39m{\n\u001b[1;32m    240\u001b[0m                 \u001b[39m# This is covering up backwards compat in the anndata initializer\u001b[39;00m\n\u001b[1;32m    241\u001b[0m                 \u001b[39m# In most cases we should be able to call `func(elen[k])` instead\u001b[39;00m\n\u001b[0;32m--> 242\u001b[0m                 k: read_dispatched(elem[k], callback)\n\u001b[1;32m    243\u001b[0m                 \u001b[39mfor\u001b[39;00m k \u001b[39min\u001b[39;00m elem\u001b[39m.\u001b[39mkeys()\n\u001b[1;32m    244\u001b[0m                 \u001b[39mif\u001b[39;00m \u001b[39mnot\u001b[39;00m k\u001b[39m.\u001b[39mstartswith(\u001b[39m\"\u001b[39m\u001b[39mraw.\u001b[39m\u001b[39m\"\u001b[39m)\n\u001b[1;32m    245\u001b[0m             }\n\u001b[1;32m    246\u001b[0m         )\n\u001b[1;32m    247\u001b[0m     \u001b[39melif\u001b[39;00m elem_name\u001b[39m.\u001b[39mstartswith(\u001b[39m\"\u001b[39m\u001b[39m/raw.\u001b[39m\u001b[39m\"\u001b[39m):\n\u001b[1;32m    248\u001b[0m         \u001b[39mreturn\u001b[39;00m \u001b[39mNone\u001b[39;00m\n",
      "File \u001b[0;32m~/lib/miniforge3/envs/rt/lib/python3.12/site-packages/anndata/experimental/_dispatch_io.py:42\u001b[0m, in \u001b[0;36mread_dispatched\u001b[0;34m(elem, callback)\u001b[0m\n\u001b[1;32m     38\u001b[0m \u001b[39mfrom\u001b[39;00m \u001b[39manndata\u001b[39;00m\u001b[39m.\u001b[39;00m\u001b[39m_io\u001b[39;00m\u001b[39m.\u001b[39;00m\u001b[39mspecs\u001b[39;00m \u001b[39mimport\u001b[39;00m _REGISTRY, Reader\n\u001b[1;32m     40\u001b[0m reader \u001b[39m=\u001b[39m Reader(_REGISTRY, callback\u001b[39m=\u001b[39mcallback)\n\u001b[0;32m---> 42\u001b[0m \u001b[39mreturn\u001b[39;00m reader\u001b[39m.\u001b[39;49mread_elem(elem)\n",
      "File \u001b[0;32m~/lib/miniforge3/envs/rt/lib/python3.12/site-packages/anndata/_io/utils.py:211\u001b[0m, in \u001b[0;36mreport_read_key_on_error.<locals>.func_wrapper\u001b[0;34m(*args, **kwargs)\u001b[0m\n\u001b[1;32m    209\u001b[0m     \u001b[39mraise\u001b[39;00m \u001b[39mValueError\u001b[39;00m(\u001b[39m\"\u001b[39m\u001b[39mNo element found in args.\u001b[39m\u001b[39m\"\u001b[39m)\n\u001b[1;32m    210\u001b[0m \u001b[39mtry\u001b[39;00m:\n\u001b[0;32m--> 211\u001b[0m     \u001b[39mreturn\u001b[39;00m func(\u001b[39m*\u001b[39;49margs, \u001b[39m*\u001b[39;49m\u001b[39m*\u001b[39;49mkwargs)\n\u001b[1;32m    212\u001b[0m \u001b[39mexcept\u001b[39;00m \u001b[39mException\u001b[39;00m \u001b[39mas\u001b[39;00m e:\n\u001b[1;32m    213\u001b[0m     path, key \u001b[39m=\u001b[39m _get_display_path(store)\u001b[39m.\u001b[39mrsplit(\u001b[39m\"\u001b[39m\u001b[39m/\u001b[39m\u001b[39m\"\u001b[39m, \u001b[39m1\u001b[39m)\n",
      "File \u001b[0;32m~/lib/miniforge3/envs/rt/lib/python3.12/site-packages/anndata/_io/specs/registry.py:275\u001b[0m, in \u001b[0;36mReader.read_elem\u001b[0;34m(self, elem, modifiers)\u001b[0m\n\u001b[1;32m    273\u001b[0m \u001b[39mif\u001b[39;00m \u001b[39mself\u001b[39m\u001b[39m.\u001b[39mcallback \u001b[39mis\u001b[39;00m \u001b[39mNone\u001b[39;00m:\n\u001b[1;32m    274\u001b[0m     \u001b[39mreturn\u001b[39;00m read_func(elem)\n\u001b[0;32m--> 275\u001b[0m \u001b[39mreturn\u001b[39;00m \u001b[39mself\u001b[39;49m\u001b[39m.\u001b[39;49mcallback(read_func, elem\u001b[39m.\u001b[39;49mname, elem, iospec\u001b[39m=\u001b[39;49miospec)\n",
      "File \u001b[0;32m~/lib/miniforge3/envs/rt/lib/python3.12/site-packages/anndata/_io/h5ad.py:256\u001b[0m, in \u001b[0;36mread_h5ad.<locals>.callback\u001b[0;34m(func, elem_name, elem, iospec)\u001b[0m\n\u001b[1;32m    253\u001b[0m \u001b[39melif\u001b[39;00m elem_name \u001b[39min\u001b[39;00m {\u001b[39m\"\u001b[39m\u001b[39m/obs\u001b[39m\u001b[39m\"\u001b[39m, \u001b[39m\"\u001b[39m\u001b[39m/var\u001b[39m\u001b[39m\"\u001b[39m}:\n\u001b[1;32m    254\u001b[0m     \u001b[39m# Backwards compat\u001b[39;00m\n\u001b[1;32m    255\u001b[0m     \u001b[39mreturn\u001b[39;00m read_dataframe(elem)\n\u001b[0;32m--> 256\u001b[0m \u001b[39mreturn\u001b[39;00m func(elem)\n",
      "File \u001b[0;32m~/lib/miniforge3/envs/rt/lib/python3.12/site-packages/anndata/_io/specs/methods.py:724\u001b[0m, in \u001b[0;36mread_sparse\u001b[0;34m(elem, _reader)\u001b[0m\n\u001b[1;32m    719\u001b[0m \u001b[39m@_REGISTRY\u001b[39m\u001b[39m.\u001b[39mregister_read(H5Group, IOSpec(\u001b[39m\"\u001b[39m\u001b[39mcsc_matrix\u001b[39m\u001b[39m\"\u001b[39m, \u001b[39m\"\u001b[39m\u001b[39m0.1.0\u001b[39m\u001b[39m\"\u001b[39m))\n\u001b[1;32m    720\u001b[0m \u001b[39m@_REGISTRY\u001b[39m\u001b[39m.\u001b[39mregister_read(H5Group, IOSpec(\u001b[39m\"\u001b[39m\u001b[39mcsr_matrix\u001b[39m\u001b[39m\"\u001b[39m, \u001b[39m\"\u001b[39m\u001b[39m0.1.0\u001b[39m\u001b[39m\"\u001b[39m))\n\u001b[1;32m    721\u001b[0m \u001b[39m@_REGISTRY\u001b[39m\u001b[39m.\u001b[39mregister_read(ZarrGroup, IOSpec(\u001b[39m\"\u001b[39m\u001b[39mcsc_matrix\u001b[39m\u001b[39m\"\u001b[39m, \u001b[39m\"\u001b[39m\u001b[39m0.1.0\u001b[39m\u001b[39m\"\u001b[39m))\n\u001b[1;32m    722\u001b[0m \u001b[39m@_REGISTRY\u001b[39m\u001b[39m.\u001b[39mregister_read(ZarrGroup, IOSpec(\u001b[39m\"\u001b[39m\u001b[39mcsr_matrix\u001b[39m\u001b[39m\"\u001b[39m, \u001b[39m\"\u001b[39m\u001b[39m0.1.0\u001b[39m\u001b[39m\"\u001b[39m))\n\u001b[1;32m    723\u001b[0m \u001b[39mdef\u001b[39;00m \u001b[39mread_sparse\u001b[39m(elem: GroupStorageType, \u001b[39m*\u001b[39m, _reader: Reader) \u001b[39m-\u001b[39m\u001b[39m>\u001b[39m sparse\u001b[39m.\u001b[39mspmatrix:\n\u001b[0;32m--> 724\u001b[0m     \u001b[39mreturn\u001b[39;00m sparse_dataset(elem)\u001b[39m.\u001b[39;49mto_memory()\n",
      "File \u001b[0;32m~/lib/miniforge3/envs/rt/lib/python3.12/site-packages/anndata/_core/sparse_dataset.py:576\u001b[0m, in \u001b[0;36mBaseCompressedSparseDataset.to_memory\u001b[0;34m(self)\u001b[0m\n\u001b[1;32m    574\u001b[0m mtx \u001b[39m=\u001b[39m format_class(\u001b[39mself\u001b[39m\u001b[39m.\u001b[39mshape, dtype\u001b[39m=\u001b[39m\u001b[39mself\u001b[39m\u001b[39m.\u001b[39mdtype)\n\u001b[1;32m    575\u001b[0m mtx\u001b[39m.\u001b[39mdata \u001b[39m=\u001b[39m \u001b[39mself\u001b[39m\u001b[39m.\u001b[39mgroup[\u001b[39m\"\u001b[39m\u001b[39mdata\u001b[39m\u001b[39m\"\u001b[39m][\u001b[39m.\u001b[39m\u001b[39m.\u001b[39m\u001b[39m.\u001b[39m]\n\u001b[0;32m--> 576\u001b[0m mtx\u001b[39m.\u001b[39mindices \u001b[39m=\u001b[39m \u001b[39mself\u001b[39;49m\u001b[39m.\u001b[39;49mgroup[\u001b[39m\"\u001b[39;49m\u001b[39mindices\u001b[39;49m\u001b[39m\"\u001b[39;49m][\u001b[39m.\u001b[39;49m\u001b[39m.\u001b[39;49m\u001b[39m.\u001b[39;49m]\n\u001b[1;32m    577\u001b[0m mtx\u001b[39m.\u001b[39mindptr \u001b[39m=\u001b[39m \u001b[39mself\u001b[39m\u001b[39m.\u001b[39mindptr\n\u001b[1;32m    578\u001b[0m \u001b[39mreturn\u001b[39;00m mtx\n",
      "File \u001b[0;32mh5py/_objects.pyx:54\u001b[0m, in \u001b[0;36mh5py._objects.with_phil.wrapper\u001b[0;34m()\u001b[0m\n",
      "File \u001b[0;32mh5py/_objects.pyx:55\u001b[0m, in \u001b[0;36mh5py._objects.with_phil.wrapper\u001b[0;34m()\u001b[0m\n",
      "File \u001b[0;32m~/lib/miniforge3/envs/rt/lib/python3.12/site-packages/h5py/_hl/dataset.py:758\u001b[0m, in \u001b[0;36mDataset.__getitem__\u001b[0;34m(self, args, new_dtype)\u001b[0m\n\u001b[1;32m    756\u001b[0m \u001b[39mif\u001b[39;00m \u001b[39mself\u001b[39m\u001b[39m.\u001b[39m_fast_read_ok \u001b[39mand\u001b[39;00m (new_dtype \u001b[39mis\u001b[39;00m \u001b[39mNone\u001b[39;00m):\n\u001b[1;32m    757\u001b[0m     \u001b[39mtry\u001b[39;00m:\n\u001b[0;32m--> 758\u001b[0m         \u001b[39mreturn\u001b[39;00m \u001b[39mself\u001b[39;49m\u001b[39m.\u001b[39;49m_fast_reader\u001b[39m.\u001b[39;49mread(args)\n\u001b[1;32m    759\u001b[0m     \u001b[39mexcept\u001b[39;00m \u001b[39mTypeError\u001b[39;00m:\n\u001b[1;32m    760\u001b[0m         \u001b[39mpass\u001b[39;00m  \u001b[39m# Fall back to Python read pathway below\u001b[39;00m\n",
      "File \u001b[0;32mh5py/_selector.pyx:368\u001b[0m, in \u001b[0;36mh5py._selector.Reader.read\u001b[0;34m()\u001b[0m\n",
      "File \u001b[0;32mh5py/_selector.pyx:342\u001b[0m, in \u001b[0;36mh5py._selector.Reader.make_array\u001b[0;34m()\u001b[0m\n",
      "\u001b[0;31mMemoryError\u001b[0m: Unable to allocate 30.1 GiB for an array with shape (4038712131,) and data type int64",
      "\u001b[0mError raised while reading key 'X' of <class 'h5py._hl.group.Group'> from /"
     ]
    }
   ],
   "source": [
    "import scanpy as sc\n",
    "\n",
    "ann = sc.read_h5ad(\"../../data/b13072bd-9cb6-42ca-9f4f-01252baef273.h5ad\")\n",
    "ann.shape"
   ]
  }
 ],
 "metadata": {
  "kernelspec": {
   "display_name": "rt",
   "language": "python",
   "name": "python3"
  },
  "language_info": {
   "codemirror_mode": {
    "name": "ipython",
    "version": 3
   },
   "file_extension": ".py",
   "mimetype": "text/x-python",
   "name": "python",
   "nbconvert_exporter": "python",
   "pygments_lexer": "ipython3",
   "version": "3.12.7"
  }
 },
 "nbformat": 4,
 "nbformat_minor": 2
}
