{
 "cells": [
  {
   "cell_type": "code",
   "execution_count": 1,
   "metadata": {},
   "outputs": [
    {
     "name": "stderr",
     "output_type": "stream",
     "text": [
      "Downloading...\n",
      "From (original): https://drive.google.com/uc?id=1BWLvLT5y-E6gJbm8eQezBl5g8BzAVgYA\n",
      "From (redirected): https://drive.google.com/uc?id=1BWLvLT5y-E6gJbm8eQezBl5g8BzAVgYA&confirm=t&uuid=49044312-c96f-4f93-ac70-939f2f6d586f\n",
      "To: /home/tony/workspace/other/ctap/data/PHCA.h5ad\n",
      "100%|██████████| 2.10G/2.10G [02:00<00:00, 17.5MB/s]\n"
     ]
    },
    {
     "data": {
      "text/plain": [
       "'../../data/PHCA.h5ad'"
      ]
     },
     "execution_count": 1,
     "metadata": {},
     "output_type": "execute_result"
    }
   ],
   "source": [
    "# # toscia dataset\n",
    "# import gdown\n",
    "# import os\n",
    "# from pathlib import Path\n",
    "\n",
    "# url = 'https://drive.google.com/uc?id=1BWLvLT5y-E6gJbm8eQezBl5g8BzAVgYA'\n",
    "\n",
    "# destination_directory = Path(\"../../data/\")\n",
    "# file_name = \"PHCA.h5ad\"\n",
    "# output = os.path.join(destination_directory, file_name)\n",
    "\n",
    "# gdown.download(url, output, quiet=False)"
   ]
  },
  {
   "cell_type": "code",
   "execution_count": 2,
   "metadata": {},
   "outputs": [],
   "source": [
    "# https://cellxgene.cziscience.com/collections/6f6d381a-7701-4781-935c-db10d30de293\n",
    "# An integrated cell atlas of the lung in health and disease\n",
    "# https://www.nature.com/articles/s41591-023-02327-2#data-availability"
   ]
  },
  {
   "cell_type": "code",
   "execution_count": null,
   "metadata": {},
   "outputs": [],
   "source": [
    "# https://www.ncbi.nlm.nih.gov/bioproject/?term=PRJNA561303?\n",
    "# mouse sc transcriptomics for liver"
   ]
  },
  {
   "cell_type": "code",
   "execution_count": null,
   "metadata": {},
   "outputs": [],
   "source": [
    "# https://www.ncbi.nlm.nih.gov/bioproject/PRJNA1113569\n",
    "# control https://www.ncbi.nlm.nih.gov/sra/SRX24609427[accn]\n",
    "# infected https://www.ncbi.nlm.nih.gov/sra/SRX24609425[accn]\n",
    "# transcriptomics for PBMCs during Human cytomegalovirus infection in mouse model\n",
    "# idea: liquid biopsy\n",
    "# \n",
    "# https://www.ncbi.nlm.nih.gov/geo/query/acc.cgi?acc=GSE267869\n",
    "# ^ get barcodes from here\n",
    "# preprocess\n",
    "# - prefetch\n",
    "# - fastq-dump\n",
    "# - subsample data\n",
    "# workflow:\n",
    "# - need to split by single cell (umi?)\n",
    "# - then map to reference genome\n",
    "# - normalization\n",
    "# - umap view with with infected / control labelled?\n",
    "# - separate by cell types? >> use a smaller model than tosica >> how get actual names like \"T-cell\"?\n",
    "# - umap view again per cell type (limit to top K variance between infected and control)\n",
    "# - compare expression variation for each cell type\n",
    "# - train a classifier\n",
    "# - test the classifier\n",
    "\n",
    "# hypothesis: due to the role of PBMCs in immune function, their response to infection\n",
    "# should be detectable in the transcriptome. Further, different cell types have\n",
    "# different roles and therefore should respond differently"
   ]
  }
 ],
 "metadata": {
  "kernelspec": {
   "display_name": "rt",
   "language": "python",
   "name": "python3"
  },
  "language_info": {
   "codemirror_mode": {
    "name": "ipython",
    "version": 3
   },
   "file_extension": ".py",
   "mimetype": "text/x-python",
   "name": "python",
   "nbconvert_exporter": "python",
   "pygments_lexer": "ipython3",
   "version": "3.12.3"
  }
 },
 "nbformat": 4,
 "nbformat_minor": 2
}
