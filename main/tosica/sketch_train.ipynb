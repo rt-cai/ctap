{
 "cells": [
  {
   "cell_type": "code",
   "execution_count": 2,
   "metadata": {},
   "outputs": [],
   "source": [
    "from pathlib import Path\n",
    "from scipy.io import mmread\n",
    "from scipy.sparse import coo_matrix\n",
    "import pandas as pd\n",
    "import numpy as np\n",
    "import scanpy as sc\n",
    "import anndata as ad\n",
    "from tqdm import tqdm\n",
    "import warnings\n",
    "warnings.filterwarnings(\"ignore\")\n",
    "\n",
    "WORKSPACE_ROOT = Path(\"../../\").resolve()"
   ]
  },
  {
   "cell_type": "code",
   "execution_count": 3,
   "metadata": {},
   "outputs": [
    {
     "data": {
      "text/plain": [
       "AnnData object with n_obs × n_vars = 131608 × 36601\n",
       "    obs: 'Organ', 'Donor', 'Chemistry', 'Cell_category', 'Predicted_labels_CellTypist', 'Majority_voting_CellTypist', 'Majority_voting_CellTypist_high', 'Manually_curated_celltype', 'n_genes'\n",
       "    obsm: 'X_umap'"
      ]
     },
     "execution_count": 3,
     "metadata": {},
     "output_type": "execute_result"
    }
   ],
   "source": [
    "fadata = ad.read_h5ad(WORKSPACE_ROOT/\"data/tosica/PHCA.h5ad\")\n",
    "fadata"
   ]
  },
  {
   "cell_type": "code",
   "execution_count": 4,
   "metadata": {},
   "outputs": [
    {
     "name": "stdout",
     "output_type": "stream",
     "text": [
      "AnnData object with n_obs × n_vars = 131 × 36601\n",
      "    obs: 'Organ', 'Donor', 'Chemistry', 'Cell_category', 'Predicted_labels_CellTypist', 'Majority_voting_CellTypist', 'Majority_voting_CellTypist_high', 'Manually_curated_celltype', 'n_genes'\n",
      "    obsm: 'X_umap'\n"
     ]
    }
   ],
   "source": [
    "ssdata = sc.pp.subsample(fadata, n_obs=int(fadata.shape[0]*0.001), copy=True)\n",
    "print(ssdata)"
   ]
  },
  {
   "cell_type": "code",
   "execution_count": 5,
   "metadata": {},
   "outputs": [
    {
     "name": "stdout",
     "output_type": "stream",
     "text": [
      "splitDataSet\n",
      "densed\n",
      "label embedding fit_transform() finished\n",
      "label embedding finished\n",
      "Split finished\n",
      "[[ 0.  0.  0. ...  0.  0. 30.]\n",
      " [ 0.  0.  0. ...  0.  0.  8.]\n",
      " [ 0.  0.  0. ...  0.  0. 13.]\n",
      " ...\n",
      " [ 0.  0.  0. ...  0.  0. 28.]\n",
      " [ 0.  0.  0. ...  0.  0. 14.]\n",
      " [ 0.  0.  0. ...  0.  0. 20.]]\n",
      "balance finished\n"
     ]
    }
   ],
   "source": [
    "from sklearn.preprocessing import LabelEncoder\n",
    "import torch\n",
    "def todense(adata):\n",
    "    import scipy\n",
    "    if isinstance(adata.X, scipy.sparse.csr_matrix) or isinstance(adata.X, scipy.sparse.csc_matrix):\n",
    "        return adata.X.todense()\n",
    "    else:\n",
    "        return adata.X\n",
    "\n",
    "def balance_populations_modified(data):\n",
    "    ct_names = np.unique(data[:,-1])\n",
    "    ct_counts = pd.value_counts(data[:,-1])\n",
    "    max_val = min(ct_counts.max(),np.int32(2000000/len(ct_counts)))\n",
    "    print(data)\n",
    "    balanced_data = np.empty(shape=(1,data.shape[1]),dtype=np.float32)\n",
    "    for ct in ct_names:\n",
    "        tmp = data[data[:,-1] == ct]\n",
    "        idx = np.random.choice(range(len(tmp)), max_val-len(tmp))\n",
    "        tmp_X = tmp[idx]\n",
    "        balanced_data = np.r_[balanced_data,tmp,tmp_X]\n",
    "    return np.delete(balanced_data,0,axis=0)\n",
    "\n",
    "adata = ssdata\n",
    "tr_ratio = 0.7\n",
    "label_name='Manually_curated_celltype'\n",
    "\n",
    "print(f\"splitDataSet\")\n",
    "label_encoder = LabelEncoder()\n",
    "el_data = pd.DataFrame(todense(adata),index=np.array(adata.obs_names).tolist(), columns=np.array(adata.var_names).tolist())\n",
    "print(f\"densed\")\n",
    "el_data[label_name] = adata.obs[label_name].astype('str')\n",
    "\n",
    "#el_data = pd.read_table(data_path,sep=\",\",header=0,index_col=0)\n",
    "genes = el_data.columns.values[:-1]\n",
    "#el_data = np.array(el_data)\n",
    "el_data = el_data.values\n",
    "# el_data = np.delete(el_data,-1,axis=1)\n",
    "el_data[:,-1] = label_encoder.fit_transform(el_data[:,-1])\n",
    "print(\"label embedding fit_transform() finished\")\n",
    "inverse = label_encoder.inverse_transform(range(0,np.max(el_data[:,-1])+1))\n",
    "print(\"label embedding finished\")\n",
    "el_data = el_data.astype(np.float32)\n",
    "\n",
    "# el_data = balance_populations(data = el_data)\n",
    "n_genes = len(el_data[1])-1\n",
    "train_size = int(len(el_data) * tr_ratio)\n",
    "train_dataset, valid_dataset = torch.utils.data.random_split(el_data, [train_size,len(el_data)-train_size])\n",
    "\n",
    "# balance the training dataset\n",
    "# balanced_train_data = balance_populations(data = np.array(train_dataset))\n",
    "print('Split finished')\n",
    "balanced_train_data = balance_populations_modified(data = np.array(train_dataset))\n",
    "print('balance finished')\n",
    "# n_genes = len(balanced_train_data[1])-1\n",
    "# exp_train = torch.from_numpy(np.array(train_dataset)[:,:n_genes].astype(np.float32))\n",
    "# label_train = torch.from_numpy(np.array(train_dataset)[:,-1].astype(np.int64))\n",
    "exp_train =  torch.from_numpy(np.array(balanced_train_data)[:,:n_genes].astype(np.float32))\n",
    "label_train = torch.from_numpy(np.array(balanced_train_data)[:,-1].astype(np.int64))\n",
    "exp_valid = torch.from_numpy(np.array(valid_dataset)[:,:n_genes].astype(np.float32))\n",
    "label_valid = torch.from_numpy(np.array(valid_dataset)[:,-1].astype(np.int64))\n",
    "\n",
    "# return exp_train, label_train, exp_valid, label_valid, inverse, genes"
   ]
  },
  {
   "cell_type": "markdown",
   "metadata": {},
   "source": [
    "resample by index to avoid densing matrix"
   ]
  },
  {
   "cell_type": "code",
   "execution_count": 6,
   "metadata": {},
   "outputs": [],
   "source": [
    "adata = fadata\n",
    "tr_ratio = 0.7\n",
    "seed = 42\n",
    "\n",
    "# encode labels\n",
    "labels = adata.obs[label_name]\n",
    "label_encoder = LabelEncoder()\n",
    "label_encoder.fit(labels)\n",
    "enc_labels = label_encoder.transform(labels)\n",
    "enc_labelsi = np.vstack((np.arange(len(labels)), enc_labels)).T # entry by (index, class)\n",
    "unique_labels = np.unique(enc_labels)\n",
    "inverse_map = np.vstack((label_encoder.inverse_transform(unique_labels), unique_labels)).T\n",
    "\n",
    "# train/valid split\n",
    "train_size = int(len(enc_labelsi) * tr_ratio)\n",
    "rng = torch.Generator().manual_seed(seed)\n",
    "train_indexes, valid_indexes = [x.dataset for x in torch.utils.data.random_split(enc_labelsi, [train_size, len(enc_labelsi)-train_size], rng)]\n",
    "\n",
    "# calc resample target N\n",
    "unique, counts = np.unique(train_indexes[:, 1], return_counts=True)\n",
    "abs_max_val = np.int32(2000000/len(unique)) # scale absolute limit based on inverse of number of classes\n",
    "re_sample_target = min(counts.max(), abs_max_val)\n",
    "\n",
    "# resample each class for train\n",
    "_accumulator = []\n",
    "for cls in unique:\n",
    "    indexes = enc_labelsi[enc_labelsi[:,1] == cls][:, 0]\n",
    "    diff = re_sample_target - indexes.shape[0]\n",
    "    to_add = np.random.choice(indexes, diff)\n",
    "    _accumulator.append(np.hstack((indexes, to_add)))\n",
    "super_sampled_train = np.hstack(_accumulator)\n",
    "\n",
    "# prepare results for return\n",
    "train_xi, train_y = super_sampled_train, enc_labels[super_sampled_train]\n",
    "valid_xi, valid_y = valid_indexes[:, 0], enc_labels[valid_indexes[:, 0]]\n",
    "train_y = torch.from_numpy(np.array(train_y).astype(np.int64))\n",
    "valid_y = torch.from_numpy(np.array(valid_y).astype(np.int64))\n",
    "genes = np.array(adata.var_names)"
   ]
  },
  {
   "cell_type": "code",
   "execution_count": 7,
   "metadata": {},
   "outputs": [
    {
     "data": {
      "text/plain": [
       "(225000,)"
      ]
     },
     "execution_count": 7,
     "metadata": {},
     "output_type": "execute_result"
    }
   ],
   "source": [
    "train_xi.shape"
   ]
  },
  {
   "cell_type": "code",
   "execution_count": 8,
   "metadata": {},
   "outputs": [
    {
     "data": {
      "text/plain": [
       "array(['MIR1302-2HG', 'FAM138A', 'OR4F5', ..., 'AC007325.1', 'AC007325.4',\n",
       "       'AC007325.2'], dtype=object)"
      ]
     },
     "execution_count": 8,
     "metadata": {},
     "output_type": "execute_result"
    }
   ],
   "source": [
    "np.array(adata.var_names)"
   ]
  },
  {
   "cell_type": "code",
   "execution_count": 9,
   "metadata": {},
   "outputs": [
    {
     "data": {
      "text/plain": [
       "matrix([[0., 0., 0., ..., 0., 0., 0.],\n",
       "        [0., 0., 0., ..., 0., 0., 0.],\n",
       "        [0., 0., 0., ..., 0., 0., 0.],\n",
       "        [0., 0., 0., ..., 0., 0., 0.],\n",
       "        [0., 0., 0., ..., 0., 0., 0.]], dtype=float32)"
      ]
     },
     "execution_count": 9,
     "metadata": {},
     "output_type": "execute_result"
    }
   ],
   "source": [
    "adata.X[train_xi[:5]].todense()"
   ]
  },
  {
   "cell_type": "markdown",
   "metadata": {},
   "source": [
    "check gene names match"
   ]
  },
  {
   "cell_type": "code",
   "execution_count": 10,
   "metadata": {},
   "outputs": [
    {
     "name": "stdout",
     "output_type": "stream",
     "text": [
      "(36601, 2)\n"
     ]
    },
    {
     "data": {
      "text/html": [
       "<div>\n",
       "<style scoped>\n",
       "    .dataframe tbody tr th:only-of-type {\n",
       "        vertical-align: middle;\n",
       "    }\n",
       "\n",
       "    .dataframe tbody tr th {\n",
       "        vertical-align: top;\n",
       "    }\n",
       "\n",
       "    .dataframe thead th {\n",
       "        text-align: right;\n",
       "    }\n",
       "</style>\n",
       "<table border=\"1\" class=\"dataframe\">\n",
       "  <thead>\n",
       "    <tr style=\"text-align: right;\">\n",
       "      <th></th>\n",
       "      <th>locus</th>\n",
       "      <th>gene</th>\n",
       "    </tr>\n",
       "  </thead>\n",
       "  <tbody>\n",
       "    <tr>\n",
       "      <th>0</th>\n",
       "      <td>ENSG00000000003</td>\n",
       "      <td>TSPAN6</td>\n",
       "    </tr>\n",
       "    <tr>\n",
       "      <th>1</th>\n",
       "      <td>ENSG00000000005</td>\n",
       "      <td>TNMD</td>\n",
       "    </tr>\n",
       "  </tbody>\n",
       "</table>\n",
       "</div>"
      ],
      "text/plain": [
       "             locus    gene\n",
       "0  ENSG00000000003  TSPAN6\n",
       "1  ENSG00000000005    TNMD"
      ]
     },
     "execution_count": 10,
     "metadata": {},
     "output_type": "execute_result"
    }
   ],
   "source": [
    "df = pd.read_csv(\"../scanpy/cache/genes.csv\")\n",
    "print(df.shape)\n",
    "df.head(2)"
   ]
  },
  {
   "cell_type": "code",
   "execution_count": 11,
   "metadata": {},
   "outputs": [
    {
     "data": {
      "text/plain": [
       "set()"
      ]
     },
     "execution_count": 11,
     "metadata": {},
     "output_type": "execute_result"
    }
   ],
   "source": [
    "a = set(df[\"gene\"])\n",
    "b = set(adata.var_names)\n",
    "a-b"
   ]
  }
 ],
 "metadata": {
  "kernelspec": {
   "display_name": "ctap",
   "language": "python",
   "name": "python3"
  },
  "language_info": {
   "codemirror_mode": {
    "name": "ipython",
    "version": 3
   },
   "file_extension": ".py",
   "mimetype": "text/x-python",
   "name": "python",
   "nbconvert_exporter": "python",
   "pygments_lexer": "ipython3",
   "version": "3.12.7"
  }
 },
 "nbformat": 4,
 "nbformat_minor": 2
}
